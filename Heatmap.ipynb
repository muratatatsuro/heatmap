{
 "cells": [
  {
   "cell_type": "code",
   "execution_count": 2,
   "metadata": {},
   "outputs": [
    {
     "name": "stdout",
     "output_type": "stream",
     "text": [
      "===========output 1 color map================\n"
     ]
    },
    {
     "data": {
      "image/png": "[encoded data removed]",
      "text/plain": [
       "<Figure size 432x288 with 1 Axes>"
      ]
     },
     "metadata": {},
     "output_type": "display_data"
    },
    {
     "name": "stdout",
     "output_type": "stream",
     "text": [
      "===========output 3 color map================\n"
     ]
    },
    {
     "data": {
      "text/plain": [
       "<Figure size 432x288 with 0 Axes>"
      ]
     },
     "metadata": {},
     "output_type": "display_data"
    },
    {
     "data": {
      "image/png": "[encoded data removed]",
      "text/plain": [
       "<Figure size 432x288 with 1 Axes>"
      ]
     },
     "metadata": {},
     "output_type": "display_data"
    },
    {
     "name": "stdout",
     "output_type": "stream",
     "text": [
      "===========output 5 color map================\n"
     ]
    },
    {
     "data": {
      "text/plain": [
       "<Figure size 432x288 with 0 Axes>"
      ]
     },
     "metadata": {},
     "output_type": "display_data"
    },
    {
     "data": {
      "image/png": "[encoded data removed]",
      "text/plain": [
       "<Figure size 432x288 with 1 Axes>"
      ]
     },
     "metadata": {},
     "output_type": "display_data"
    },
    {
     "name": "stdout",
     "output_type": "stream",
     "text": [
      "===========output 7 color map================\n"
     ]
    },
    {
     "data": {
      "text/plain": [
       "<Figure size 432x288 with 0 Axes>"
      ]
     },
     "metadata": {},
     "output_type": "display_data"
    },
    {
     "data": {
      "image/png": "[encoded data removed]",
      "text/plain": [
       "<Figure size 432x288 with 1 Axes>"
      ]
     },
     "metadata": {},
     "output_type": "display_data"
    },
    {
     "name": "stdout",
     "output_type": "stream",
     "text": [
      "===========output 9 color map================\n"
     ]
    },
    {
     "data": {
      "text/plain": [
       "<Figure size 432x288 with 0 Axes>"
      ]
     },
     "metadata": {},
     "output_type": "display_data"
    },
    {
     "data": {
      "image/png": "[encoded data removed]",
      "text/plain": [
       "<Figure size 432x288 with 1 Axes>"
      ]
     },
     "metadata": {},
     "output_type": "display_data"
    },
    {
     "data": {
      "text/plain": [
       "<Figure size 432x288 with 0 Axes>"
      ]
     },
     "metadata": {},
     "output_type": "display_data"
    }
   ],
   "source": [
    "\"\"\"自分独自で考えるカラーマップの参考の考え方 案1\"\"\"\n",
    "import numpy as np\n",
    "import matplotlib.pyplot as plt\n",
    "%matplotlib inline\n",
    "import os\n",
    "\n",
    "DESIGN_PARAMS_NUM=6\n",
    "DESIGN_NUM=10\n",
    "\n",
    "#正規化した入力データ\n",
    "x=[[np.random.rand() for _ in range(DESIGN_PARAMS_NUM)] for _ in range(DESIGN_NUM)]\n",
    "\n",
    "#出力マップの大きさ\n",
    "output_size=3\n",
    "\n",
    "#最適化指標のインデクス\n",
    "obj_index=[1,3,5]\n",
    "\n",
    "#正規化\n",
    "def scaler(obj_index,x):\n",
    "    obj=[]\n",
    "    for i in range(DESIGN_NUM):\n",
    "        obj.append(x[i][obj_index])\n",
    "        \n",
    "    obj_sc=[(obj[i]-min(obj))/(max(obj)-min(obj)) for i in range(DESIGN_NUM)]\n",
    "    return obj_sc\n",
    "\n",
    "idx=0\n",
    "color_point=[]\n",
    "obj_sc=[scaler(obj_index[idx],x) for idx in range(len(obj_index))]\n",
    "\n",
    "\n",
    "color_point=[]\n",
    "jdx=0\n",
    "while jdx<DESIGN_NUM:\n",
    "    color_point_ind=[]\n",
    "    for j in range(DESIGN_NUM):\n",
    "        for i in range(3):\n",
    "            if j==jdx:\n",
    "                color_point_ind.append(obj_sc[i][j])\n",
    "                \n",
    "    color_point.append(color_point_ind)\n",
    "    jdx+=1\n",
    "#print('each individual color num:',color_point)\n",
    "     \n",
    "    \n",
    "    \n",
    "\n",
    "#一次元データから二次元データへ\n",
    "def index_change(index):\n",
    "    idx=index//output_size\n",
    "    jdx=index%output_size\n",
    "    \n",
    "    return idx,jdx\n",
    "\n",
    "#マップ上での距離を表す\n",
    "def dis(index_1,index_2):\n",
    "    idx_1,jdx_1=index_change(index_1)\n",
    "    idx_2,jdx_2=index_change(index_2)\n",
    "    \n",
    "    return (idx_1-idx_2)**2+(jdx_1-jdx_2)**2\n",
    "\n",
    "\n",
    "center_index=int(output_size**2/2)\n",
    "\n",
    "\n",
    "def color_int_in_map_center(key_index,color_point,index_x):\n",
    "    #index_xは何番目の個体かを示す\n",
    "    dist=[]\n",
    "    for idx in range(output_size**2):\n",
    "        dist.append(dis(idx,key_index))\n",
    "    \n",
    "    color_int=[]\n",
    "    for i in range(len(dist)):\n",
    "        color_int.append([np.exp(-dist[i])*color_point[index_x][k] for k in range(len(obj_index))])\n",
    "        \n",
    "    return color_int\n",
    "\n",
    "\n",
    "def color_int_in_map_edge(key_index,color_point,index_x):\n",
    "    dist=[]\n",
    "    color_int=[]\n",
    "    return color_int\n",
    "\n",
    "color_map=[]\n",
    "for index_x in range(DESIGN_NUM):\n",
    "    color_map.append(color_int_in_map_center(center_index,color_point,index_x))\n",
    "\n",
    "    \n",
    "path='data_set_x'\n",
    "#どの設計番号か\n",
    "for design_number in range(DESIGN_NUM):\n",
    "    color_map_output=[]\n",
    "    for i in range(0,output_size**2,output_size):\n",
    "        color_map_output.append(color_map[design_number][i:i+output_size])\n",
    "        \n",
    "    \n",
    "        \n",
    "    if design_number%2==0:\n",
    "\n",
    "        print('===========output %d color map================'%(design_number+1))\n",
    "        plt.figure()\n",
    "        plt.imshow(color_map_output)\n",
    "        plt.show()\n",
    "     \n",
    "    #画像の保存\n",
    "    if not os.path.exists(path):\n",
    "        os.mkdir(path)\n",
    "    \n",
    "    plt.savefig('%s/color_map_%d.png'%(path,design_number+1))\n",
    "        \n",
    "\n",
    "\n"
   ]
  },
  {
   "cell_type": "code",
   "execution_count": 47,
   "metadata": {
    "scrolled": false
   },
   "outputs": [
    {
     "name": "stdout",
     "output_type": "stream",
     "text": [
      "=========1 number design space=======\n"
     ]
    },
    {
     "data": {
      "image/png": "[encoded data removed]",
      "text/plain": [
       "<Figure size 432x288 with 1 Axes>"
      ]
     },
     "metadata": {},
     "output_type": "display_data"
    }
   ],
   "source": [
    "#設計データから正規化データを作成してさらに深層学習のデータセットを作成\n",
    "import numpy as np\n",
    "import matplotlib.pyplot as plt\n",
    "%matplotlib inline\n",
    "import os\n",
    "\n",
    "DESIGN_PARAMS_NUM=40\n",
    "DESIGN_NUM=10000\n",
    "path='dataset_heatmap_x'\n",
    "\n",
    "#深層学習のためのデータセット\n",
    "dataset_heatmap_x=[]\n",
    "dataset_heatmap_y=[]\n",
    "\n",
    "#設計目標\n",
    "obj_goal=[0.5,0.3]\n",
    "obj_index=[4,6]\n",
    "\n",
    "#入力データ\n",
    "x=[[np.random.rand() for _ in range(DESIGN_PARAMS_NUM)] for _ in range(DESIGN_NUM)]\n",
    "\n",
    "#ラベル付け\n",
    "def label(obj_goal,obj_index,x_color_map):\n",
    "    #二つ目的関数の時\n",
    "    index_1=obj_index[0]\n",
    "    index_2=obj_index[1]\n",
    "    \n",
    "    if x_color_map[index_1][0]<obj_goal[0] and x_color_map[index_2][0]<obj_goal[1]:\n",
    "        label_ind=0\n",
    "    elif x_color_map[index_1][0]<obj_goal[0] and x_color_map[index_2][0]>=obj_goal[1]:\n",
    "        label_ind=1\n",
    "    elif x_color_map[index_1][0]>=obj_goal[0] and x_color_map[index_2][0]<obj_goal[1]:\n",
    "        label_ind=2\n",
    "    elif x_color_map[index_1][0]>=obj_goal[0] and x_color_map[index_2][0]>=obj_goal[1]:\n",
    "        label_ind=3\n",
    "        \n",
    "    return label_ind\n",
    "        \n",
    "        \n",
    "        \n",
    "        \n",
    "        \n",
    "\n",
    "for index_x in range(DESIGN_NUM):\n",
    "    x_color_1d=[]\n",
    "    x_color=x[index_x]\n",
    "    for j in range(DESIGN_PARAMS_NUM):\n",
    "        for i in range(0,DESIGN_PARAMS_NUM**2,DESIGN_PARAMS_NUM):\n",
    "            x_color_1d.append(x_color[(i+j)%DESIGN_PARAMS_NUM])\n",
    "\n",
    "\n",
    "    x_color_map=[]\n",
    "    for i in range(0,DESIGN_PARAMS_NUM**2,DESIGN_PARAMS_NUM):\n",
    "        x_color_map.append(x_color_1d[i:i+DESIGN_PARAMS_NUM])\n",
    "        \n",
    "        \n",
    "    dataset_heatmap_x.append(x_color_map)\n",
    "    dataset_heatmap_y.append(label(obj_goal,obj_index,x_color_map))\n",
    "    \n",
    "    \n",
    "    #画像の保存\n",
    "    #if not os.path.exists(path):\n",
    "        #os.mkdir(path)\n",
    "    #plt.savefig('{}/heatmap_{}.png'.format(path,index_x+1))\n",
    "    \n",
    "    if index_x%10000==0:\n",
    "        print('=========%d number design space======='%(index_x+1))\n",
    "        plt.imshow(x_color_map)\n",
    "        plt.show()\n",
    "\n",
    "#print(dataset_heatmap_x)\n",
    "#print(dataset_heatmap_y)"
   ]
  },
  {
   "cell_type": "code",
   "execution_count": 48,
   "metadata": {},
   "outputs": [
    {
     "name": "stdout",
     "output_type": "stream",
     "text": [
      "(10000, 40, 40)\n",
      "(10000,)\n",
      "Train on 8000 samples, validate on 2000 samples\n",
      "Epoch 1/10\n",
      "8000/8000 [==============================] - 43s 5ms/step - loss: 1.0884 - acc: 0.5176 - val_loss: 0.6233 - val_acc: 0.7525\n",
      "Epoch 2/10\n",
      "8000/8000 [==============================] - 42s 5ms/step - loss: 0.6774 - acc: 0.7241 - val_loss: 0.4808 - val_acc: 0.8115\n",
      "Epoch 3/10\n",
      "8000/8000 [==============================] - 47s 6ms/step - loss: 0.5654 - acc: 0.7752 - val_loss: 0.3902 - val_acc: 0.8495\n",
      "Epoch 4/10\n",
      "8000/8000 [==============================] - 50s 6ms/step - loss: 0.5226 - acc: 0.7962 - val_loss: 0.3461 - val_acc: 0.8660\n",
      "Epoch 5/10\n",
      "8000/8000 [==============================] - 37s 5ms/step - loss: 0.4621 - acc: 0.8220 - val_loss: 0.3645 - val_acc: 0.8555\n",
      "Epoch 6/10\n",
      "8000/8000 [==============================] - 42s 5ms/step - loss: 0.4368 - acc: 0.8244 - val_loss: 0.3703 - val_acc: 0.8495\n",
      "Epoch 7/10\n",
      "8000/8000 [==============================] - 42s 5ms/step - loss: 0.4217 - acc: 0.8320 - val_loss: 0.3293 - val_acc: 0.8655\n",
      "Epoch 8/10\n",
      "8000/8000 [==============================] - 42s 5ms/step - loss: 0.4021 - acc: 0.8425 - val_loss: 0.3089 - val_acc: 0.8705\n",
      "Epoch 9/10\n",
      "8000/8000 [==============================] - 44s 5ms/step - loss: 0.3965 - acc: 0.8474 - val_loss: 0.3076 - val_acc: 0.8710\n",
      "Epoch 10/10\n",
      "8000/8000 [==============================] - 50s 6ms/step - loss: 0.3758 - acc: 0.8505 - val_loss: 0.2828 - val_acc: 0.8800\n",
      "2000/2000 [==============================] - 4s 2ms/step\n",
      "loss: 0.2828325810432434 accuracy: 0.88\n"
     ]
    },
    {
     "data": {
      "image/png": "[encoded data removed]",
      "text/plain": [
       "<Figure size 432x288 with 1 Axes>"
      ]
     },
     "metadata": {},
     "output_type": "display_data"
    },
    {
     "data": {
      "image/png": "[encoded data removed]",
      "text/plain": [
       "<Figure size 432x288 with 1 Axes>"
      ]
     },
     "metadata": {},
     "output_type": "display_data"
    }
   ],
   "source": [
    "#深層学習モデル(keras) 自動でデータセットを分析できる\n",
    "import numpy as np\n",
    "import matplotlib.pyplot as plt\n",
    "%matplotlib inline\n",
    "\n",
    "import tensorflow as tf\n",
    "import cv2\n",
    "import os\n",
    "\n",
    "import keras\n",
    "from keras.models import Sequential\n",
    "from keras.layers import Conv2D,MaxPooling2D\n",
    "from keras.layers import Dense,Dropout,Flatten\n",
    "from keras.optimizers import RMSprop\n",
    "from keras.utils import to_categorical\n",
    "\n",
    "#入力データ(深層学習)\n",
    "dataset_x=np.array(dataset_heatmap_x)\n",
    "dataset_y=np.array(dataset_heatmap_y)\n",
    "train_rate=0.8\n",
    "epochs=10\n",
    "\n",
    "#shape\n",
    "input_shape=(DESIGN_PARAMS_NUM,DESIGN_PARAMS_NUM,1)\n",
    "output_size=4\n",
    "\n",
    "print(dataset_x.shape)\n",
    "print(dataset_y.shape)\n",
    "\n",
    "def train_test_split(x,y,train_rate):\n",
    "    data_num=x.shape[0]\n",
    "    train_num=int(data_num*train_rate)\n",
    "    \n",
    "    x_train,x_test=x[:train_num],x[train_num:]\n",
    "    y_train,y_test=y[:train_num],y[train_num:]\n",
    "    \n",
    "    return (x_train,y_train),(x_test,y_test)\n",
    "\n",
    "\n",
    "(x_train,y_train),(x_test,y_test)=train_test_split(dataset_x,dataset_y,train_rate)\n",
    "x_train=x_train.reshape(-1,DESIGN_PARAMS_NUM,DESIGN_PARAMS_NUM,1).astype('float32')\n",
    "x_test=x_test.reshape(-1,DESIGN_PARAMS_NUM,DESIGN_PARAMS_NUM,1).astype('float32')\n",
    "\n",
    "y_train=to_categorical(y_train,output_size)\n",
    "y_test=to_categorical(y_test,output_size)\n",
    "\n",
    "model=Sequential()\n",
    "model.add(Conv2D(64,(3,3),activation='relu',input_shape=input_shape))\n",
    "model.add(MaxPooling2D(pool_size=(2,2)))\n",
    "model.add(Conv2D(16,(2,2),activation='relu'))\n",
    "model.add(MaxPooling2D(pool_size=(2,2)))\n",
    "model.add(Dropout(0.5))\n",
    "model.add(Flatten())\n",
    "model.add(Dense(128,activation='relu'))\n",
    "model.add(Dropout(0.5))\n",
    "model.add(Dense(output_size,activation='softmax'))\n",
    "\n",
    "\n",
    "#build\n",
    "model.compile(loss='categorical_crossentropy',optimizer=RMSprop(),metrics=['acc'])\n",
    "\n",
    "#学習の開始\n",
    "hist=model.fit(x_train,y_train,batch_size=32,epochs=epochs,verbose=1,validation_data=(x_test,y_test))\n",
    "\n",
    "\n",
    "#モデルの評価\n",
    "score=model.evaluate(x_test,y_test,verbose=1)\n",
    "print('loss:',score[0],'accuracy:',score[1])\n",
    "\n",
    "\n",
    "#学習の描画\n",
    "plt.plot(hist.history['acc'])\n",
    "plt.plot(hist.history['val_acc'])\n",
    "plt.title('accuracy')\n",
    "plt.legend(['train','test'],loc='upper right')\n",
    "plt.show()\n",
    "\n",
    "\n",
    "plt.plot(hist.history['loss'])\n",
    "plt.plot(hist.history['val_loss'])\n",
    "plt.title('loss')\n",
    "plt.legend(['train','test'],loc='upper right')\n",
    "plt.show()\n",
    "\n",
    "\n",
    "#学習したモデルの保存とload\n",
    "\n"
   ]
  },
  {
   "cell_type": "code",
   "execution_count": 37,
   "metadata": {},
   "outputs": [
    {
     "name": "stdout",
     "output_type": "stream",
     "text": [
      "Train on 60000 samples, validate on 10000 samples\n",
      "Epoch 1/15\n",
      "60000/60000 [==============================] - 194s 3ms/step - loss: 0.2021 - acc: 0.9364 - val_loss: 0.0542 - val_acc: 0.9823\n",
      "Epoch 2/15\n",
      "60000/60000 [==============================] - 193s 3ms/step - loss: 0.0601 - acc: 0.9815 - val_loss: 0.0338 - val_acc: 0.9892\n",
      "Epoch 3/15\n",
      "60000/60000 [==============================] - 201s 3ms/step - loss: 0.0440 - acc: 0.9867 - val_loss: 0.0293 - val_acc: 0.9893\n",
      "Epoch 4/15\n",
      "60000/60000 [==============================] - 190s 3ms/step - loss: 0.0347 - acc: 0.9895 - val_loss: 0.0299 - val_acc: 0.9897\n",
      "Epoch 5/15\n",
      "60000/60000 [==============================] - 196s 3ms/step - loss: 0.0302 - acc: 0.9910 - val_loss: 0.0277 - val_acc: 0.9905\n",
      "Epoch 6/15\n",
      "60000/60000 [==============================] - 189s 3ms/step - loss: 0.0251 - acc: 0.9920 - val_loss: 0.0243 - val_acc: 0.9925\n",
      "Epoch 7/15\n",
      "60000/60000 [==============================] - 193s 3ms/step - loss: 0.0207 - acc: 0.9939 - val_loss: 0.0233 - val_acc: 0.9930\n",
      "Epoch 8/15\n",
      "60000/60000 [==============================] - 191s 3ms/step - loss: 0.0192 - acc: 0.9941 - val_loss: 0.0236 - val_acc: 0.9924\n",
      "Epoch 9/15\n",
      "60000/60000 [==============================] - 194s 3ms/step - loss: 0.0173 - acc: 0.9947 - val_loss: 0.0227 - val_acc: 0.9933\n",
      "Epoch 10/15\n",
      "60000/60000 [==============================] - 193s 3ms/step - loss: 0.0164 - acc: 0.9952 - val_loss: 0.0249 - val_acc: 0.9927\n",
      "Epoch 11/15\n",
      "60000/60000 [==============================] - 191s 3ms/step - loss: 0.0144 - acc: 0.9959 - val_loss: 0.0302 - val_acc: 0.9926\n",
      "Epoch 12/15\n",
      "60000/60000 [==============================] - 192s 3ms/step - loss: 0.0140 - acc: 0.9955 - val_loss: 0.0261 - val_acc: 0.9925\n",
      "Epoch 13/15\n",
      "60000/60000 [==============================] - 190s 3ms/step - loss: 0.0123 - acc: 0.9962 - val_loss: 0.0285 - val_acc: 0.9923\n",
      "Epoch 14/15\n",
      "60000/60000 [==============================] - 186s 3ms/step - loss: 0.0120 - acc: 0.9964 - val_loss: 0.0264 - val_acc: 0.9921\n",
      "Epoch 15/15\n",
      "60000/60000 [==============================] - 201s 3ms/step - loss: 0.0104 - acc: 0.9966 - val_loss: 0.0290 - val_acc: 0.9919\n",
      "10000/10000 [==============================] - 12s 1ms/step\n",
      "loss: 0.028983877023350806 accuracy: 0.9919\n"
     ]
    },
    {
     "data": {
      "image/png": "[encoded data removed]",
      "text/plain": [
       "<Figure size 432x288 with 1 Axes>"
      ]
     },
     "metadata": {},
     "output_type": "display_data"
    },
    {
     "data": {
      "image/png": "[encoded data removed]",
      "text/plain": [
       "<Figure size 432x288 with 1 Axes>"
      ]
     },
     "metadata": {},
     "output_type": "display_data"
    }
   ],
   "source": [
    "#CNN\n",
    "import tensorflow as tf\n",
    "import matplotlib.pyplot as plt\n",
    "%matplotlib inline\n",
    "import numpy as np\n",
    "import cv2\n",
    "\n",
    "import keras\n",
    "from keras.datasets import mnist\n",
    "from keras.models import Sequential\n",
    "from keras.layers import Conv2D,MaxPooling2D\n",
    "from keras.layers import Dense,Dropout,Flatten,Activation\n",
    "from keras.optimizers import RMSprop\n",
    "\n",
    "\"\"\"層を構築するためのクラスはkeras.layers\n",
    "   層をビルドするためのクラスはkeras.models\n",
    "   線形活性化(Activation)、ドロップアウト(Dropout)、平滑化(Flatten)、全結合(Dense)\"\"\"\n",
    "\n",
    "\n",
    "\n",
    "\n",
    "#datasets load\n",
    "(X_train,y_train),(X_test,y_test)=mnist.load_data()\n",
    "\n",
    "#一枚当たりの大きさ\n",
    "input_size=(28,28,1)\n",
    "#どれくらいのクラスに分類するか\n",
    "out_size=10\n",
    "\n",
    "#データの正規化\n",
    "X_train=X_train.reshape(-1,28,28,1)\n",
    "X_train=X_train.astype('float32')/255\n",
    "\n",
    "X_test=X_test.reshape(-1,28,28,1)\n",
    "X_test=X_test.astype('float32')/255\n",
    "\n",
    "#onehot\n",
    "y_train=keras.utils.to_categorical(y_train.astype('float32'),out_size)\n",
    "y_test=keras.utils.to_categorical(y_test.astype('float32'),out_size)\n",
    "\n",
    "\n",
    "#一枚当たりの大きさ\n",
    "input_size=(28,28,1)\n",
    "#どれくらいのクラスに分類するか\n",
    "out_size=10\n",
    "\n",
    "\n",
    "\n",
    "#CNN\n",
    "#モデルのビルドのため\n",
    "model=Sequential()\n",
    "model.add(Conv2D(64,(3,3),activation='relu',input_shape=input_size))\n",
    "model.add(MaxPooling2D(pool_size=(2,2)))\n",
    "model.add(Conv2D(32,(3,3),activation='relu'))\n",
    "model.add(MaxPooling2D(pool_size=(2,2)))\n",
    "model.add(Flatten())\n",
    "model.add(Dense(512,activation='relu'))\n",
    "model.add(Dropout(0.5))\n",
    "model.add(Dense(out_size,activation='softmax'))\n",
    "\n",
    "\n",
    "model.compile(loss='categorical_crossentropy',optimizer=RMSprop(),metrics=['accuracy'])\n",
    "\n",
    "#学習の実行\n",
    "hist=model.fit(X_train,y_train,batch_size=128,epochs=15,verbose=1,validation_data=(X_test,y_test))\n",
    "\n",
    "#モデルの評価\n",
    "score=model.evaluate(X_test,y_test,verbose=1)\n",
    "print('loss:',score[0],'accuracy:',score[1])\n",
    "\n",
    "#学習の様子の可視化\n",
    "plt.plot(hist.history['acc'])\n",
    "plt.plot(hist.history['val_acc'])\n",
    "plt.title('accuracy')\n",
    "plt.legend(['train','test'],loc='upper right')\n",
    "plt.show()\n",
    "\n",
    "\n",
    "plt.plot(hist.history['loss'])\n",
    "plt.plot(hist.history['val_loss'])\n",
    "plt.title('loss')\n",
    "plt.legend(['train','test'],loc='upper right')\n",
    "plt.show()\n",
    "\n",
    "\n",
    "\n"
   ]
  },
  {
   "cell_type": "code",
   "execution_count": null,
   "metadata": {},
   "outputs": [],
   "source": []
  },
  {
   "cell_type": "code",
   "execution_count": null,
   "metadata": {},
   "outputs": [],
   "source": []
  }
 ],
 "metadata": {
  "kernelspec": {
   "display_name": "Python 3",
   "language": "python",
   "name": "python3"
  },
  "language_info": {
   "codemirror_mode": {
    "name": "ipython",
    "version": 3
   },
   "file_extension": ".py",
   "mimetype": "text/x-python",
   "name": "python",
   "nbconvert_exporter": "python",
   "pygments_lexer": "ipython3",
   "version": "3.6.6"
  }
 },
 "nbformat": 4,
 "nbformat_minor": 2
}
